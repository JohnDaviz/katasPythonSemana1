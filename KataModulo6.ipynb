{
 "cells": [
  {
   "cell_type": "markdown",
   "metadata": {},
   "source": [
    "Ejercicio1: Crear y usar listas de Python"
   ]
  },
  {
   "cell_type": "code",
   "execution_count": 1,
   "metadata": {},
   "outputs": [],
   "source": [
    "# Creamos la lista planets y la mostramos\n",
    "planets = ['Mercurio', 'Venus', 'Tierra', 'Marte', 'Jupiter', 'Saturno', 'Neptuno']"
   ]
  },
  {
   "cell_type": "code",
   "execution_count": 2,
   "metadata": {},
   "outputs": [
    {
     "name": "stdout",
     "output_type": "stream",
     "text": [
      "['Mercurio', 'Venus', 'Tierra', 'Marte', 'Jupiter', 'Saturno', 'Neptuno', 'plutón']\n"
     ]
    }
   ],
   "source": [
    "# Agregamos a plutón y mostramos el último elemento\n",
    "planets.append('plutón')\n",
    "print(planets)"
   ]
  },
  {
   "cell_type": "markdown",
   "metadata": {},
   "source": [
    "Ejercicio 2: Trabajando con datos de una lista.\n",
    "Usar slices para recuperar partes de una lista.\n",
    "Es posible que debas trabajar con diferentes secciones de una lista. En nuestro ejemplo, queremos mostrar planetas más cerca y más lejos del sol de un planeta que el usuario ingresa por teclado."
   ]
  },
  {
   "cell_type": "code",
   "execution_count": null,
   "metadata": {},
   "outputs": [],
   "source": [
    "planets = ['Mercurio', 'Venus', 'Tierra', 'Marte', 'Jupiter', 'Saturno', 'Neptuno']"
   ]
  },
  {
   "cell_type": "code",
   "execution_count": 1,
   "metadata": {},
   "outputs": [
    {
     "name": "stdout",
     "output_type": "stream",
     "text": [
      "Planetas mas cercanos al sol que Tierra\n",
      "['Mercurio', 'Venus']\n",
      "Planetas mas lejanos a sol queTierra\n",
      "['Marte', 'Jupiter', 'Saturno', 'Neptuno']\n"
     ]
    }
   ],
   "source": [
    "planets = ['Mercurio', 'Venus', 'Tierra', 'Marte', 'Jupiter', 'Saturno', 'Neptuno']\n",
    "input_planeta = input('Ingrese el planeta que desea buscar')\n",
    "planetas_index = planets.index(input_planeta)\n",
    "\n",
    "print('Planetas mas cercanos al sol que ' + input_planeta)\n",
    "print(planets[0:planetas_index])\n",
    "print('Planetas mas lejanos a sol que ' + input_planeta)\n",
    "print(planets[planetas_index + 1:])\n"
   ]
  }
 ],
 "metadata": {
  "interpreter": {
   "hash": "2acd6f5562a6008ca0101cfc41e6c5cd997dc61e7297d685fff48346e9a557bb"
  },
  "kernelspec": {
   "display_name": "Python 3.9.10 64-bit (windows store)",
   "language": "python",
   "name": "python3"
  },
  "language_info": {
   "codemirror_mode": {
    "name": "ipython",
    "version": 3
   },
   "file_extension": ".py",
   "mimetype": "text/x-python",
   "name": "python",
   "nbconvert_exporter": "python",
   "pygments_lexer": "ipython3",
   "version": "3.9.10"
  },
  "orig_nbformat": 4
 },
 "nbformat": 4,
 "nbformat_minor": 2
}
